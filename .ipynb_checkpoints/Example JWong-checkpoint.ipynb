{
 "cells": [
  {
   "cell_type": "code",
   "execution_count": 15,
   "metadata": {
    "collapsed": false
   },
   "outputs": [
    {
     "ename": "SyntaxError",
     "evalue": "keyword can't be an expression (<ipython-input-15-d5c16660a5ea>, line 35)",
     "output_type": "error",
     "traceback": [
      "\u001b[1;36m  File \u001b[1;32m\"<ipython-input-15-d5c16660a5ea>\"\u001b[1;36m, line \u001b[1;32m35\u001b[0m\n\u001b[1;33m    viz = lgn.line(yrs. thickness= 5, xaxis = \"Years\", yaxis = \"UC Spending\", index = year_index)\u001b[0m\n\u001b[1;37m                  ^\u001b[0m\n\u001b[1;31mSyntaxError\u001b[0m\u001b[1;31m:\u001b[0m keyword can't be an expression\n"
     ]
    }
   ],
   "source": [
    "import openpyxl\n",
    "wb = openpyxl.load_workbook('./examples/finance_and_giving.xlsx')\n",
    "sheet2 = wb.get_sheet_by_name('12.1.2')\n",
    "sheet1 = wb.get_sheet_by_name('12.1.1')\n",
    "\n",
    "sheet1.cell(row=5, column=7).value\n",
    "sheet1['G5'].value\n",
    "\n",
    "print(\"Rows:\")\n",
    "for i in range(4,13):\n",
    "    print(sheet1.cell(row=i, column=4).value)\n",
    "print(\"\\n\")\n",
    "          \n",
    "print(\"Columns:\")\n",
    "for j in range(4,13):\n",
    "    print(sheet1.cell(row=i, column=j).value)   \n",
    "print(\"\\n\")\n",
    "\n",
    "print(\"Row, Column, Value:\")\n",
    "for i in range(4,13):\n",
    "    print(sheet1.cell(row=i, column=j).value)\n",
    "    \n",
    "from lightning import Lightning\n",
    "from numpy import random, cell, array\n",
    "\n",
    "lgn = Lightning(host=\"http://public.lightning-viz.org\")\n",
    "\n",
    "yrs = []\n",
    "for j in range(4,13):\n",
    "    yrs.append([])\n",
    "for i in range(4, 13):\n",
    "    for j in range(4,13):\n",
    "        yrs[j-4].append(sheet1.cell(row=i, column=j).value)\n",
    "year_index = range(4.13)\n",
    "viz = lgn.line(yrs. thickness= 5, xaxis = \"Years\", yaxis = \"UC Spending\", index = year_index)\n",
    "\n",
    "viz.open()\n",
    "viz.get_public_link()\n",
    "\n",
    "        \n",
    "    \n",
    "\n",
    "\n",
    "          \n",
    "    \n",
    "\n",
    "\n"
   ]
  },
  {
   "cell_type": "code",
   "execution_count": null,
   "metadata": {
    "collapsed": true
   },
   "outputs": [],
   "source": []
  }
 ],
 "metadata": {
  "kernelspec": {
   "display_name": "Python 3",
   "language": "python",
   "name": "python3"
  },
  "language_info": {
   "codemirror_mode": {
    "name": "ipython",
    "version": 3
   },
   "file_extension": ".py",
   "mimetype": "text/x-python",
   "name": "python",
   "nbconvert_exporter": "python",
   "pygments_lexer": "ipython3",
   "version": "3.5.1"
  }
 },
 "nbformat": 4,
 "nbformat_minor": 0
}

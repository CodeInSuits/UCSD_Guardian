{
 "cells": [
  {
   "cell_type": "code",
   "execution_count": 12,
   "metadata": {
    "collapsed": false
   },
   "outputs": [
    {
     "name": "stdout",
     "output_type": "stream",
     "text": [
      "Lesson 1: Done. Excel Workbook Imported\n"
     ]
    }
   ],
   "source": [
    "#Lesson 1: Importing Excel Sheets\n",
    "#Need the openpxl library\n",
    "#openpyxl: library for handling .xlsx files only.\n",
    "import openpyxl\n",
    "\n",
    "#Use load_workbook command to import\n",
    "wb = openpyxl.load_workbook('finance_and_giving.xlsx')\n",
    "\n",
    "print('Lesson 1: Done. Excel Workbook Imported')"
   ]
  },
  {
   "cell_type": "code",
   "execution_count": 47,
   "metadata": {
    "collapsed": false
   },
   "outputs": [
    {
     "name": "stdout",
     "output_type": "stream",
     "text": [
      "Rows:\n",
      "\n",
      "\n",
      "Columns:\n",
      "\n",
      "\n",
      "Row, Column, Value:\n"
     ]
    }
   ],
   "source": [
    "#Lesson 2: Acessing Sheets, Rows and Columns in Excel\n",
    "\n",
    "#Our excel file has 8 sheets\n",
    "#Use the get_sheet_by_name command\n",
    "sheet1 = wb.get_sheet_by_name(\"12.1.1\") #UC_Total_03to15\n",
    "sheet2 = wb.get_sheet_by_name(\"12.1.2\") #UC_Ind_03to15\n",
    "UC_Percent_of_Cal_Budget = wb.get_sheet_by_name(\"12.3.1\")#Sheet 5\n",
    "\n",
    "#Two commands to access cell values\n",
    "#Note-In excel, columns are letters A to Z, and rows are numbered\n",
    "#Note-Value B4 refers to row 4 column 2\n",
    "sheet1.cell(row=4,column=2).value #command 1\n",
    "sheet1['B4'].value #command 2\n",
    "\n",
    "#Looping through rows\n",
    "#for loops take 2 or 3 arguments\n",
    "#the starting value, the ending value, and the increment \n",
    "#third argument is optional)\n",
    "print(\"Rows:\")\n",
    "for i in range(2, 12):\n",
    "    sheet1.cell(row=i, column=2).value\n",
    "    #print(i, sheet1.cell(row=i, column=2).value)\n",
    "     \n",
    "print(\"\\n\")\n",
    "\n",
    "#Looping through columns\n",
    "print(\"Columns:\")\n",
    "for j in range(4, 12):\n",
    "    sheet1.cell(row=2, column = j).value\n",
    "    #print(j, sheet1.cell(row=2, column = j).value)\n",
    "print(\"\\n\")\n",
    "\n",
    "#Looping through rows and columns\n",
    "print(\"Row, Column, Value:\")\n",
    "for i in range(2, 12):\n",
    "    for j in range(4, 12):\n",
    "       sheet1.cell(row=i, column = j).value\n",
    "       #print(i, j, sheet1.cell(row=i, column = j).value)"
   ]
  },
  {
   "cell_type": "code",
   "execution_count": 11,
   "metadata": {
    "collapsed": false
   },
   "outputs": [
    {
     "name": "stdout",
     "output_type": "stream",
     "text": [
      "Lightning initialized\n",
      "Connected to server at http://public.lightning-viz.org\n"
     ]
    },
    {
     "data": {
      "text/plain": [
       "'http://public.lightning-viz.org/visualizations/0d7f9b9e-e2d1-4ae4-8aef-3432ca0aa5ac/public/'"
      ]
     },
     "execution_count": 11,
     "metadata": {},
     "output_type": "execute_result"
    }
   ],
   "source": [
    "#Lesson 3: Using Lightning Library to plot\n",
    "#http://lightning-viz.org/\n",
    "\n",
    "#First, one needs to install lightning library using pip\n",
    "#If windows, go to command prompt. If Mac, go to terminal. \n",
    "#Type 'pip install lightning-python' to install library (no '')\n",
    "from lightning import Lightning\n",
    "from numpy import random, ceil, array\n",
    "\n",
    "#Initialize the link we will be hosting our image to. \n",
    "lgn = Lightning(host=\"http://public.lightning-viz.org\")\n",
    "\n",
    "#Initialize our empty 2D array to put our data into\n",
    "#First, yrs[] initializes an empty 1D array\n",
    "#Second, for loop adds an empty array to each element in the 1D array\n",
    "#Add data from excel sheet into our 2D array\n",
    "yrs = []\n",
    "for rows in range(3, 13):\n",
    "    yrs.append([])\n",
    "    for cols in range(4, 15):\n",
    "      yrs[rows-3].append(sheet1.cell(row=rows, column = cols).value)\n",
    "\n",
    "#print(yrs)\n",
    "\n",
    "#Plot the data to our vizualization\n",
    "#Lgn references our lightning library\n",
    "#Line references a line plot\n",
    "#Open will open our vizualization at it's link, \"04-05\"\n",
    "#Get link will give us to the public link to share the visualization \n",
    "year_index = range(3, 14)\n",
    "viz =lgn.line(yrs, thickness= 5, xaxis = \"Years\", yaxis = \"UC Budget\", index = year_index)\n",
    "\n",
    "viz.open()\n",
    "viz.get_public_link()"
   ]
  },
  {
   "cell_type": "code",
   "execution_count": null,
   "metadata": {
    "collapsed": true
   },
   "outputs": [],
   "source": [
    "#http://bokeh.pydata.org/en/latest/docs/gallery/anscombe.html\n",
    "#https://www.dataquest.io/blog/python-vs-r/"
   ]
  }
 ],
 "metadata": {
  "kernelspec": {
   "display_name": "Python 3",
   "language": "python",
   "name": "python3"
  },
  "language_info": {
   "codemirror_mode": {
    "name": "ipython",
    "version": 3
   },
   "file_extension": ".py",
   "mimetype": "text/x-python",
   "name": "python",
   "nbconvert_exporter": "python",
   "pygments_lexer": "ipython3",
   "version": "3.5.1"
  }
 },
 "nbformat": 4,
 "nbformat_minor": 0
}

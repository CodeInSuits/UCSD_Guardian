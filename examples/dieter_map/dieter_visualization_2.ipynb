{
 "cells": [
  {
   "cell_type": "code",
   "execution_count": 1,
   "metadata": {
    "collapsed": false
   },
   "outputs": [
    {
     "name": "stderr",
     "output_type": "stream",
     "text": [
      "/Users/dieterjoubert/Library/Enthought/Canopy_64bit/User/lib/python2.7/site-packages/openpyxl/worksheet/header_footer.py:209: UserWarning: Cannot parse header or footer so it will be ignored\n",
      "  warn(\"\"\"Cannot parse header or footer so it will be ignored\"\"\")\n",
      "/Users/dieterjoubert/Library/Enthought/Canopy_64bit/User/lib/python2.7/site-packages/openpyxl/reader/worksheet.py:322: UserWarning: Unknown extension is not supported and will be removed\n",
      "  warn(msg)\n",
      "/Users/dieterjoubert/Library/Enthought/Canopy_64bit/User/lib/python2.7/site-packages/openpyxl/workbook/names/named_range.py:125: UserWarning: Discarded range with reserved name\n",
      "  warnings.warn(\"Discarded range with reserved name\")\n"
     ]
    },
    {
     "name": "stdout",
     "output_type": "stream",
     "text": [
      "AL    -9.0    -2.19722457734\n",
      "AK    -3.0    -1.09861228867\n",
      "AZ    -11.0    -2.3978952728\n",
      "AR    -6.0    -1.79175946923\n",
      "CA    55.0    4.00733318523\n",
      "CO    9.0    2.19722457734\n",
      "CT    7.0    1.94591014906\n",
      "DE    3.0    1.09861228867\n",
      "DC    3.0    1.09861228867\n",
      "FL    29.0    3.36729582999\n",
      "GA    -16.0    -2.77258872224\n",
      "HI    4.0    1.38629436112\n",
      "ID    -4.0    -1.38629436112\n",
      "IL    20.0    2.99573227355\n",
      "IN    -11.0    -2.3978952728\n",
      "IA    6.0    1.79175946923\n",
      "KS    -6.0    -1.79175946923\n",
      "KY    -8.0    -2.07944154168\n",
      "LA    -8.0    -2.07944154168\n",
      "ME    4.0    1.38629436112\n",
      "MD    10.0    2.30258509299\n",
      "MA    11.0    2.3978952728\n",
      "MI    16.0    2.77258872224\n",
      "MN    10.0    2.30258509299\n",
      "MS    -6.0    -1.79175946923\n",
      "MO    -10.0    -2.30258509299\n",
      "MT    -3.0    -1.09861228867\n",
      "NE    -5.0    -1.60943791243\n",
      "NV    6.0    1.79175946923\n",
      "NH    4.0    1.38629436112\n",
      "NJ    14.0    2.63905732962\n",
      "NM    5.0    1.60943791243\n",
      "NY    29.0    3.36729582999\n",
      "NC    -15.0    -2.7080502011\n",
      "ND    -3.0    -1.09861228867\n",
      "OH    18.0    2.8903717579\n",
      "OK    -7.0    -1.94591014906\n",
      "OR    7.0    1.94591014906\n",
      "PA    20.0    2.99573227355\n",
      "RI    4.0    1.38629436112\n",
      "SC    -9.0    -2.19722457734\n",
      "SD    -3.0    -1.09861228867\n",
      "TN    -11.0    -2.3978952728\n",
      "TX    -38.0    -3.63758615973\n",
      "UT    -6.0    -1.79175946923\n",
      "VT    3.0    1.09861228867\n",
      "VA    13.0    2.56494935746\n",
      "WA    12.0    2.48490664979\n",
      "WV    -5.0    -1.60943791243\n",
      "WI    10.0    2.30258509299\n",
      "WY    -3.0    -1.09861228867\n"
     ]
    }
   ],
   "source": [
    "\"\"\"\n",
    "2012 election results:\n",
    "States are colored based on whether the majority of electoral votes went for the Democrat (Obama) or the Republican (Romney)\n",
    "Democrat majority = blue\n",
    "Republican majority = red\n",
    "\n",
    "Color weights are based on the log of the number of electoral votes the state has.\n",
    "(Log used because non-log does not give very pleasing array of color weights)\n",
    "\"\"\"\n",
    "\n",
    "import openpyxl\n",
    "from math import log\n",
    "\n",
    "wb = openpyxl.load_workbook('2012pres.xlsx')\n",
    "\n",
    "sheet = wb.get_sheet_by_name('Table 2. Electoral &  Pop Vote')\n",
    "\n",
    "states = []\n",
    "electoral_results = []\n",
    "\n",
    "for r in range(6,57):\n",
    "    states.append(str(sheet.cell(row=r,column=1).value))\n",
    "    D = sheet.cell(row=r,column=2).value\n",
    "    R = sheet.cell(row=r,column=3).value\n",
    "    \n",
    "    if D == None:\n",
    "        electoral_results.append(-float(R))\n",
    "    else:\n",
    "        electoral_results.append(float(D))\n",
    "\n",
    "electoral_results_log = []\n",
    "\n",
    "for x in electoral_results:\n",
    "    if x<0:\n",
    "        electoral_results_log.append(-log(abs(x)))\n",
    "    else:\n",
    "        electoral_results_log.append(log(abs(x)))\n",
    "\n",
    "for i in range(len(states)):\n",
    "    print(states[i] + \"    \" + str(electoral_results[i]) + \"    \" + str(electoral_results_log[i]))"
   ]
  },
  {
   "cell_type": "code",
   "execution_count": 2,
   "metadata": {
    "collapsed": false
   },
   "outputs": [
    {
     "name": "stdout",
     "output_type": "stream",
     "text": [
      "Lightning initialized\n",
      "Connected to server at http://public.lightning-viz.org\n"
     ]
    },
    {
     "data": {
      "text/plain": [
       "'http://public.lightning-viz.org/visualizations/77b67d3f-dd5f-4a7a-97c1-cc8c4da62108/public/'"
      ]
     },
     "execution_count": 2,
     "metadata": {},
     "output_type": "execute_result"
    }
   ],
   "source": [
    "from lightning import Lightning\n",
    "\n",
    "lgn = Lightning(host=\"http://public.lightning-viz.org\")\n",
    "\n",
    "viz = lgn.map(states, electoral_results_log, colormap=\"RdBu\")\n",
    "\n",
    "viz.open()\n",
    "viz.get_public_link()\n"
   ]
  },
  {
   "cell_type": "code",
   "execution_count": null,
   "metadata": {
    "collapsed": true
   },
   "outputs": [],
   "source": [
    "\n"
   ]
  }
 ],
 "metadata": {
  "kernelspec": {
   "display_name": "Python 2",
   "language": "python",
   "name": "python2"
  },
  "language_info": {
   "codemirror_mode": {
    "name": "ipython",
    "version": 2
   },
   "file_extension": ".py",
   "mimetype": "text/x-python",
   "name": "python",
   "nbconvert_exporter": "python",
   "pygments_lexer": "ipython2",
   "version": "2.7.9"
  }
 },
 "nbformat": 4,
 "nbformat_minor": 0
}

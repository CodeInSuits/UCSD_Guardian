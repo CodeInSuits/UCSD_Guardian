{
 "cells": [
  {
   "cell_type": "code",
   "execution_count": 2,
   "metadata": {
    "collapsed": false
   },
   "outputs": [
    {
     "name": "stdout",
     "output_type": "stream",
     "text": [
      "opening workbook...\n"
     ]
    }
   ],
   "source": [
    "# openpyxl: library for handling .xlsx files only.\n",
    "import openpyxl\n",
    "\n",
    "print('opening workbook...')\n",
    "wb = openpyxl.load_workbook('finance_and_giving.xlsx')\n"
   ]
  },
  {
   "cell_type": "code",
   "execution_count": 3,
   "metadata": {
    "collapsed": false
   },
   "outputs": [],
   "source": [
    "# Select a worksheet within the file.\n",
    "sheet = wb.get_sheet_by_name('12.1.1')"
   ]
  },
  {
   "cell_type": "code",
   "execution_count": 4,
   "metadata": {
    "collapsed": false
   },
   "outputs": [
    {
     "name": "stdout",
     "output_type": "stream",
     "text": [
      "Writing results...\n",
      "Done.\n"
     ]
    }
   ],
   "source": [
    "# Read the spreadsheet data and write to file.\n",
    "fundingData = {}\n",
    "\n",
    "print('Writing results...')\n",
    "results = open('UC_funding_13-14.txt', 'w')\n",
    "for row in range(3, sheet.get_highest_row() + 1):\n",
    "    source  = sheet['B' + str(row)].value\n",
    "    amount = sheet['N' + str(row)].value\n",
    "    source = source.replace(\" \", \"\")\n",
    "    results.write(str(source) + \",\" + str(amount) + \"\\n\")\n",
    "results.close()\n",
    "print('Done.')"
   ]
  },
  {
   "cell_type": "code",
   "execution_count": null,
   "metadata": {
    "collapsed": true
   },
   "outputs": [],
   "source": []
  }
 ],
 "metadata": {
  "kernelspec": {
   "display_name": "Python 3",
   "language": "python",
   "name": "python3"
  },
  "language_info": {
   "codemirror_mode": {
    "name": "ipython",
    "version": 3
   },
   "file_extension": ".py",
   "mimetype": "text/x-python",
   "name": "python",
   "nbconvert_exporter": "python",
   "pygments_lexer": "ipython3",
   "version": "3.5.1"
  }
 },
 "nbformat": 4,
 "nbformat_minor": 0
}

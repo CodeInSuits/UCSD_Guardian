{
 "cells": [
  {
   "cell_type": "code",
   "execution_count": 1,
   "metadata": {
    "collapsed": false
   },
   "outputs": [
    {
     "name": "stdout",
     "output_type": "stream",
     "text": [
      "opening workbook...\n"
     ]
    }
   ],
   "source": [
    "# openpyxl: library for handling .xlsx files only.\n",
    "import openpyxl\n",
    "import matplotlib.pyplot as plt\n",
    "\n",
    "print('opening workbook...')\n",
    "wb = openpyxl.load_workbook('finance_and_giving.xlsx')\n"
   ]
  },
  {
   "cell_type": "code",
   "execution_count": 2,
   "metadata": {
    "collapsed": false
   },
   "outputs": [],
   "source": [
    "# Select a worksheet within the file.\n",
    "sheet = wb.get_sheet_by_name('12.1.1')"
   ]
  },
  {
   "cell_type": "code",
   "execution_count": 4,
   "metadata": {
    "collapsed": false
   },
   "outputs": [
    {
     "name": "stdout",
     "output_type": "stream",
     "text": [
      "Writing results...\n",
      "MedicalCenters\n",
      "8057241.0\n",
      "GrantsandContracts\n",
      "5068233.0\n",
      "StudentTuitionandFees\n",
      "3585859.0\n",
      "StateEducationalAppropriations\n",
      "2637895.9999999995\n",
      "EducationalActivities\n",
      "2378484.0\n",
      "Other\n",
      "1434166.0\n",
      "AuxiliaryEnterprises\n",
      "1316419.0\n",
      "DOELaboratories\n",
      "1250820.0\n",
      "PrivateGifts\n",
      "881648.0\n",
      "StateFinancingAppropriations\n",
      "458.0\n",
      "<_io.TextIOWrapper name='UC_funding_13-14.txt' mode='w' encoding='cp1252'>\n",
      "Done.\n"
     ]
    }
   ],
   "source": [
    "# Read the spreadsheet data and write to file.\n",
    "fundingData = {}\n",
    "\n",
    "print('Writing results...')\n",
    "results = open('UC_funding_13-14.txt', 'w')\n",
    "for row in range(3, sheet.get_highest_row() + 1):\n",
    "    source  = sheet['B' + str(row)].value\n",
    "    amount = sheet['N' + str(row)].value\n",
    "    source = source.replace(\" \", \"\")\n",
    "    results.write(str(source) + \",\" + str(amount) + \"\\n\")\n",
    "    print(source)\n",
    "    print(amount)\n",
    "results.close()\n",
    "\n",
    "print('Done.')"
   ]
  },
  {
   "cell_type": "code",
   "execution_count": 13,
   "metadata": {
    "collapsed": false
   },
   "outputs": [
    {
     "ename": "NameError",
     "evalue": "name 'column' is not defined",
     "output_type": "error",
     "traceback": [
      "\u001b[1;31m---------------------------------------------------------------------------\u001b[0m",
      "\u001b[1;31mNameError\u001b[0m                                 Traceback (most recent call last)",
      "\u001b[1;32m<ipython-input-13-b022dae61697>\u001b[0m in \u001b[0;36m<module>\u001b[1;34m()\u001b[0m\n\u001b[0;32m      1\u001b[0m \u001b[0msheet1\u001b[0m \u001b[1;33m=\u001b[0m \u001b[0mwb\u001b[0m\u001b[1;33m.\u001b[0m\u001b[0mget_sheet_by_name\u001b[0m\u001b[1;33m(\u001b[0m\u001b[1;34m'12.2.1'\u001b[0m\u001b[1;33m)\u001b[0m\u001b[1;33m\u001b[0m\u001b[0m\n\u001b[0;32m      2\u001b[0m \u001b[0mx\u001b[0m \u001b[1;33m=\u001b[0m \u001b[0msheet\u001b[0m\u001b[1;33m[\u001b[0m\u001b[1;34m'B'\u001b[0m \u001b[1;33m+\u001b[0m \u001b[0mstr\u001b[0m\u001b[1;33m(\u001b[0m\u001b[0mrow\u001b[0m\u001b[1;33m)\u001b[0m\u001b[1;33m]\u001b[0m\u001b[1;33m.\u001b[0m\u001b[0mvalue\u001b[0m\u001b[1;33m\u001b[0m\u001b[0m\n\u001b[1;32m----> 3\u001b[1;33m \u001b[0my\u001b[0m \u001b[1;33m=\u001b[0m \u001b[0msheet\u001b[0m\u001b[1;33m[\u001b[0m\u001b[1;34m'2'\u001b[0m \u001b[1;33m+\u001b[0m \u001b[0mstr\u001b[0m\u001b[1;33m(\u001b[0m\u001b[0mcolumn\u001b[0m\u001b[1;33m)\u001b[0m\u001b[1;33m]\u001b[0m\u001b[1;33m.\u001b[0m\u001b[0mvalue\u001b[0m\u001b[1;33m\u001b[0m\u001b[0m\n\u001b[0m\u001b[0;32m      4\u001b[0m \u001b[0mprint\u001b[0m\u001b[1;33m(\u001b[0m\u001b[0mx\u001b[0m\u001b[1;33m)\u001b[0m\u001b[1;33m\u001b[0m\u001b[0m\n",
      "\u001b[1;31mNameError\u001b[0m: name 'column' is not defined"
     ]
    }
   ],
   "source": [
    "sheet1 = wb.get_sheet_by_name('12.2.1')\n",
    "\n",
    "for row in range()\n",
    "x = sheet['B' + str(row)].value\n",
    "y = sheet['2' + str(column)].value\n",
    "print(x)"
   ]
  },
  {
   "cell_type": "code",
   "execution_count": null,
   "metadata": {
    "collapsed": true
   },
   "outputs": [],
   "source": []
  }
 ],
 "metadata": {
  "kernelspec": {
   "display_name": "Python 3",
   "language": "python",
   "name": "python3"
  },
  "language_info": {
   "codemirror_mode": {
    "name": "ipython",
    "version": 3
   },
   "file_extension": ".py",
   "mimetype": "text/x-python",
   "name": "python",
   "nbconvert_exporter": "python",
   "pygments_lexer": "ipython3",
   "version": "3.5.1"
  }
 },
 "nbformat": 4,
 "nbformat_minor": 0
}

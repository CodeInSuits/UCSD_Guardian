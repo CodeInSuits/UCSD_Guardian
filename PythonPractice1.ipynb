{
 "cells": [
  {
   "cell_type": "code",
   "execution_count": 8,
   "metadata": {
    "collapsed": false
   },
   "outputs": [
    {
     "name": "stdout",
     "output_type": "stream",
     "text": [
      "['58\\t448.000\\t254.667\\t1 1*', '59\\t421.333\\t248.000\\t1 2*', '60\\t428.000\\t267.000\\t1 3*', '61\\t419.000\\t279.000\\t1 4*', '62\\t417.000\\t287.000\\t1 5*']\n",
      "[1, 2, 3, 4, 5]\n"
     ]
    }
   ],
   "source": [
    "list = [\"58\t448.000\t254.667\t1 1*\",\n",
    "\"59\t421.333\t248.000\t1 2*\",\n",
    "\"60\t428.000\t267.000\t1 3*\",\n",
    "\"61\t419.000\t279.000\t1 4*\",\n",
    "\"62\t417.000\t287.000\t1 5*\" ]\n",
    "list2 = [1, 2, 3, 4, 5]\n",
    "print(list)\n",
    "print(list2)"
   ]
  },
  {
   "cell_type": "code",
   "execution_count": 12,
   "metadata": {
    "collapsed": false
   },
   "outputs": [
    {
     "ename": "SyntaxError",
     "evalue": "invalid syntax (<ipython-input-12-4ef107c424f7>, line 1)",
     "output_type": "error",
     "traceback": [
      "\u001b[1;36m  File \u001b[1;32m\"<ipython-input-12-4ef107c424f7>\"\u001b[1;36m, line \u001b[1;32m1\u001b[0m\n\u001b[1;33m    for cnt in range (0,6)\u001b[0m\n\u001b[1;37m                          ^\u001b[0m\n\u001b[1;31mSyntaxError\u001b[0m\u001b[1;31m:\u001b[0m invalid syntax\n"
     ]
    }
   ],
   "source": [
    "for cnt in range (0,6)"
   ]
  },
  {
   "cell_type": "code",
   "execution_count": 10,
   "metadata": {
    "collapsed": false
   },
   "outputs": [
    {
     "name": "stdout",
     "output_type": "stream",
     "text": [
      "58\t448.000\t254.667\t1 1*\n",
      "59\t421.333\t248.000\t1 2*\n",
      "60\t428.000\t267.000\t1 3*\n",
      "61\t419.000\t279.000\t1 4*\n",
      "62\t417.000\t287.000\t1 5*\n"
     ]
    }
   ],
   "source": [
    "for cnt in list:\n",
    "    print(cnt)"
   ]
  },
  {
   "cell_type": "code",
   "execution_count": 13,
   "metadata": {
    "collapsed": false
   },
   "outputs": [
    {
     "name": "stdout",
     "output_type": "stream",
     "text": [
      "60\t428.000\t267.000\t1 3*\n",
      "61\t419.000\t279.000\t1 4*\n",
      "62\t417.000\t287.000\t1 5*\n"
     ]
    }
   ],
   "source": [
    "for cnt in range(2,5):\n",
    "    \n",
    "    print(list[cnt])"
   ]
  },
  {
   "cell_type": "code",
   "execution_count": 22,
   "metadata": {
    "collapsed": false
   },
   "outputs": [
    {
     "name": "stdout",
     "output_type": "stream",
     "text": [
      "['1', 'one', '2', 'two', '3', 'three', '4', 'four', '5', 'five']\n"
     ]
    }
   ],
   "source": [
    "list3 = [\"1 one\", \"2 two\", \"3 three\", \"4 four\", \"5 five\"]\n",
    "list4 = []\n",
    "for x in list3:\n",
    "    str1 = x.split()\n",
    "    for y in str1:\n",
    "        list4.append(y)\n",
    "print(list4)"
   ]
  },
  {
   "cell_type": "code",
   "execution_count": null,
   "metadata": {
    "collapsed": true
   },
   "outputs": [],
   "source": []
  }
 ],
 "metadata": {
  "kernelspec": {
   "display_name": "Python 3",
   "language": "python",
   "name": "python3"
  },
  "language_info": {
   "codemirror_mode": {
    "name": "ipython",
    "version": 3
   },
   "file_extension": ".py",
   "mimetype": "text/x-python",
   "name": "python",
   "nbconvert_exporter": "python",
   "pygments_lexer": "ipython3",
   "version": "3.5.1"
  }
 },
 "nbformat": 4,
 "nbformat_minor": 0
}
